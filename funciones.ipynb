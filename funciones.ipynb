{
 "cells": [
  {
   "attachments": {},
   "cell_type": "markdown",
   "metadata": {},
   "source": [
    "# Funciones"
   ]
  },
  {
   "cell_type": "code",
   "execution_count": 4,
   "metadata": {},
   "outputs": [],
   "source": [
    "import pandas as pd\n",
    "import numpy as np"
   ]
  },
  {
   "cell_type": "code",
   "execution_count": 7,
   "metadata": {},
   "outputs": [],
   "source": [
    "df = pd.read_csv('proceso_etl_terminado.csv')"
   ]
  },
  {
   "cell_type": "code",
   "execution_count": 9,
   "metadata": {},
   "outputs": [
    {
     "data": {
      "text/html": [
       "<div>\n",
       "<style scoped>\n",
       "    .dataframe tbody tr th:only-of-type {\n",
       "        vertical-align: middle;\n",
       "    }\n",
       "\n",
       "    .dataframe tbody tr th {\n",
       "        vertical-align: top;\n",
       "    }\n",
       "\n",
       "    .dataframe thead th {\n",
       "        text-align: right;\n",
       "    }\n",
       "</style>\n",
       "<table border=\"1\" class=\"dataframe\">\n",
       "  <thead>\n",
       "    <tr style=\"text-align: right;\">\n",
       "      <th></th>\n",
       "      <th>budget</th>\n",
       "      <th>id</th>\n",
       "      <th>original_language</th>\n",
       "      <th>overview</th>\n",
       "      <th>popularity</th>\n",
       "      <th>release_date</th>\n",
       "      <th>revenue</th>\n",
       "      <th>runtime</th>\n",
       "      <th>status</th>\n",
       "      <th>tagline</th>\n",
       "      <th>...</th>\n",
       "      <th>vote_average</th>\n",
       "      <th>vote_count</th>\n",
       "      <th>name_to_collection</th>\n",
       "      <th>name_genres</th>\n",
       "      <th>nombre_compania</th>\n",
       "      <th>pais_produccion</th>\n",
       "      <th>nombre_idioma_hablado</th>\n",
       "      <th>release_year</th>\n",
       "      <th>return</th>\n",
       "      <th>name_director</th>\n",
       "    </tr>\n",
       "  </thead>\n",
       "  <tbody>\n",
       "  </tbody>\n",
       "</table>\n",
       "<p>0 rows × 21 columns</p>\n",
       "</div>"
      ],
      "text/plain": [
       "Empty DataFrame\n",
       "Columns: [budget, id, original_language, overview, popularity, release_date, revenue, runtime, status, tagline, title, vote_average, vote_count, name_to_collection, name_genres, nombre_compania, pais_produccion, nombre_idioma_hablado, release_year, return, name_director]\n",
       "Index: []\n",
       "\n",
       "[0 rows x 21 columns]"
      ]
     },
     "execution_count": 9,
     "metadata": {},
     "output_type": "execute_result"
    }
   ],
   "source": [
    "df.head(0)"
   ]
  },
  {
   "attachments": {},
   "cell_type": "markdown",
   "metadata": {},
   "source": [
    "### 1. Esta función devuelve la cantidad de peliculas que hay en ese idioma que se introdujo"
   ]
  },
  {
   "cell_type": "code",
   "execution_count": 2,
   "metadata": {},
   "outputs": [],
   "source": [
    "#Funcion 1: Cantidad de peliculas producidas en un idioma específico\n",
    "\n",
    "import iso639\n",
    "\n",
    "def peliculas_idioma(idioma: str):\n",
    "    idioma_nombre = None\n",
    "\n",
    "    try:\n",
    "        codigo_iso639 = iso639.to_iso639_1(idioma.lower())\n",
    "        idioma_nombre = iso639.to_name(codigo_iso639)\n",
    "    except ValueError:\n",
    "        return f\"No se encontró información para el idioma {idioma}\"\n",
    "\n",
    "    cantidad_peliculas = len(df[df['original_language'] == codigo_iso639])\n",
    "    return f\"{cantidad_peliculas} cantidad de películas fueron estrenadas en idioma {idioma_nombre}\""
   ]
  },
  {
   "cell_type": "code",
   "execution_count": 5,
   "metadata": {},
   "outputs": [
    {
     "data": {
      "text/plain": [
       "'991 cantidad de películas fueron estrenadas en idioma Spanish; Castilian'"
      ]
     },
     "execution_count": 5,
     "metadata": {},
     "output_type": "execute_result"
    }
   ],
   "source": [
    "peliculas_idioma('Spanish')"
   ]
  },
  {
   "attachments": {},
   "cell_type": "markdown",
   "metadata": {},
   "source": [
    "### 2. Se ingresa una pelicula. Debe devolver la duracion y el año"
   ]
  },
  {
   "cell_type": "code",
   "execution_count": 135,
   "metadata": {},
   "outputs": [],
   "source": [
    "def peliculas_duracion(pelicula: str):\n",
    "    \n",
    "    # Filtra el DataFrame por la película ingresada\n",
    "    pelicula_filtrada = df[df['title'] == pelicula]\n",
    "    \n",
    "    # Verifica si se encontró la película\n",
    "    if pelicula_filtrada.empty:\n",
    "        return f\"No se encontró información para la película '{pelicula}'.\"\n",
    "    \n",
    "    # Obtiene la duración y el año de la película\n",
    "    duracion = pelicula_filtrada['runtime'].values[0]\n",
    "    anio = pelicula_filtrada['release_year'].values[0]\n",
    "    \n",
    "    # Devuelve la duración y el año de la película\n",
    "    return f\"Duración: {duracion} minutos. Año: {anio}.\""
   ]
  },
  {
   "cell_type": "code",
   "execution_count": 138,
   "metadata": {},
   "outputs": [
    {
     "data": {
      "text/plain": [
       "'Duración: 101.0 minutos. Año: 1995.'"
      ]
     },
     "execution_count": 138,
     "metadata": {},
     "output_type": "execute_result"
    }
   ],
   "source": [
    "peliculas_duracion('Grumpier Old Men')"
   ]
  },
  {
   "attachments": {},
   "cell_type": "markdown",
   "metadata": {},
   "source": [
    "### 3. Se ingresa la franquicia, retornando la cantidad de peliculas, ganancia total y promedio"
   ]
  },
  {
   "cell_type": "code",
   "execution_count": 165,
   "metadata": {},
   "outputs": [],
   "source": [
    "def franquicia(Franquicia: str):    \n",
    "    # Filtra el DataFrame por la franquicia ingresada\n",
    "    franquicia_filtrada = df[df['name_to_collection'] == Franquicia]\n",
    "    \n",
    "    # Verifica si se encontró la franquicia\n",
    "    if franquicia_filtrada.empty:\n",
    "        return f\"No se encontró información para la franquicia '{Franquicia}'.\"\n",
    "    \n",
    "    # Calcula la cantidad de películas de la franquicia\n",
    "    cantidad_peliculas = len(franquicia_filtrada)\n",
    "    \n",
    "    # Calcula la ganancia total y promedio de la franquicia\n",
    "    ganancia_total = franquicia_filtrada['revenue'].sum()\n",
    "    ganancia_total_formateada = '{:,.0f}'.format(ganancia_total)\n",
    "    ganancia_promedio = franquicia_filtrada['revenue'].mean()\n",
    "    ganancia_promedio_formateada = '{:,.2f}'.format(ganancia_promedio)\n",
    "    \n",
    "    # Devuelve la información de la franquicia\n",
    "    return f\"La franquicia {Franquicia} posee {cantidad_peliculas} películas, una ganancia total de {ganancia_total_formateada} y una ganancia promedio de {ganancia_promedio_formateada}%\"\n",
    "\n",
    "\n"
   ]
  },
  {
   "cell_type": "code",
   "execution_count": 166,
   "metadata": {},
   "outputs": [
    {
     "data": {
      "text/plain": [
       "'La franquicia From Dusk Till Dawn Collection posee 3 películas, una ganancia total de 25,836,616 y una ganancia promedio de 8,612,205.33%'"
      ]
     },
     "execution_count": 166,
     "metadata": {},
     "output_type": "execute_result"
    }
   ],
   "source": [
    "franquicia('From Dusk Till Dawn Collection')"
   ]
  },
  {
   "attachments": {},
   "cell_type": "markdown",
   "metadata": {},
   "source": [
    "### 4. Ingresar una País y retornar la cantidad de peliculas que pesee dicho país"
   ]
  },
  {
   "cell_type": "code",
   "execution_count": 203,
   "metadata": {},
   "outputs": [],
   "source": [
    "def peliculas_pais(Pais: str):\n",
    "    cantidad_peliculas = df[df['pais_produccion'].apply(lambda x: Pais in x)].shape[0]\n",
    "    if cantidad_peliculas == 0:\n",
    "        return f\"No se encontraron películas producidas en el país {Pais}.\"\n",
    "    else:\n",
    "        return f\"Se produjeron {cantidad_peliculas} películas en el país {Pais}.\""
   ]
  },
  {
   "cell_type": "code",
   "execution_count": 205,
   "metadata": {},
   "outputs": [
    {
     "data": {
      "text/plain": [
       "'Se produjeron 3956 películas en el país France.'"
      ]
     },
     "execution_count": 205,
     "metadata": {},
     "output_type": "execute_result"
    }
   ],
   "source": [
    "peliculas_pais('France')"
   ]
  },
  {
   "attachments": {},
   "cell_type": "markdown",
   "metadata": {},
   "source": [
    "### 5. Se ingresa la productora, y retorna el revenue total y la cantidad de peliculas que realizo."
   ]
  },
  {
   "cell_type": "code",
   "execution_count": 221,
   "metadata": {},
   "outputs": [],
   "source": [
    "def productoras_exitosas(Productora: str):\n",
    "    productora_films = df[df['nombre_compania'].apply(lambda x: Productora in x)]\n",
    "    if productora_films.empty:\n",
    "        return f\"No se encontraron películas para la productora {Productora}.\"\n",
    "    else:\n",
    "        total_revenue = productora_films['revenue'].sum()\n",
    "        cantidad_peliculas = len(productora_films)\n",
    "        return f\"La productora {Productora} ha tenido un revenue de {total_revenue} y ha realizado {cantidad_peliculas} películas.\"\n",
    "\n"
   ]
  },
  {
   "cell_type": "code",
   "execution_count": 228,
   "metadata": {},
   "outputs": [
    {
     "data": {
      "text/plain": [
       "'La productora Interscope Communications ha tenido un revenue de 1129048982.0 y ha realizado 36 películas.'"
      ]
     },
     "execution_count": 228,
     "metadata": {},
     "output_type": "execute_result"
    }
   ],
   "source": [
    "productoras_exitosas('Interscope Communications')"
   ]
  },
  {
   "attachments": {},
   "cell_type": "markdown",
   "metadata": {},
   "source": [
    "### 6. Se ingresa el nombre de un director que se encuentre dentro de un dataset debiendo devolver el éxito del mismo medido a través del retorno. Además, deberá devolver el nombre de cada película con la fecha de lanzamiento, retorno individual, costo y ganancia de la misma, en formato lista."
   ]
  },
  {
   "cell_type": "code",
   "execution_count": 232,
   "metadata": {},
   "outputs": [],
   "source": [
    "def get_director(nombre_director: str):\n",
    "    director_films = df[df['name_director'] == nombre_director]\n",
    "    if director_films.empty:\n",
    "        return f\"No se encontraron películas para el director {nombre_director}.\"\n",
    "    else:\n",
    "        director_success = director_films['return'].mean()\n",
    "        movie_list = []\n",
    "        for _, row in director_films.iterrows():\n",
    "            movie_info = {\n",
    "                'title': row['title'],\n",
    "                'release_date': row['release_date'],\n",
    "                'return': row['return'],\n",
    "                'budget': row['budget'],\n",
    "                'revenue': row['revenue']\n",
    "            }\n",
    "            movie_list.append(movie_info)\n",
    "        \n",
    "        return director_success, movie_list\n",
    "\n"
   ]
  },
  {
   "cell_type": "code",
   "execution_count": 234,
   "metadata": {},
   "outputs": [
    {
     "data": {
      "text/plain": [
       "(8.386840551102477,\n",
       " [{'title': 'Dracula: Dead and Loving It',\n",
       "   'release_date': '1995-12-22',\n",
       "   'return': 0.0,\n",
       "   'budget': 0.0,\n",
       "   'revenue': 0.0},\n",
       "  {'title': 'Robin Hood: Men in Tights',\n",
       "   'release_date': '1993-07-28',\n",
       "   'return': 1.78698775,\n",
       "   'budget': 20000000.0,\n",
       "   'revenue': 35739755.0},\n",
       "  {'title': 'Young Frankenstein',\n",
       "   'release_date': '1974-12-15',\n",
       "   'return': 30.811904642857144,\n",
       "   'budget': 2800000.0,\n",
       "   'revenue': 86273333.0},\n",
       "  {'title': 'The Producers',\n",
       "   'release_date': '1967-11-22',\n",
       "   'return': 0.0,\n",
       "   'budget': 947000.0,\n",
       "   'revenue': 0.0},\n",
       "  {'title': 'History of the World: Part I',\n",
       "   'release_date': '1981-06-12',\n",
       "   'return': 2.8793551818181817,\n",
       "   'budget': 11000000.0,\n",
       "   'revenue': 31672907.0},\n",
       "  {'title': 'Spaceballs',\n",
       "   'release_date': '1987-06-24',\n",
       "   'return': 1.6792723788546255,\n",
       "   'budget': 22700000.0,\n",
       "   'revenue': 38119483.0},\n",
       "  {'title': 'The Twelve Chairs',\n",
       "   'release_date': '1970-10-28',\n",
       "   'return': 0.0,\n",
       "   'budget': 0.0,\n",
       "   'revenue': 0.0},\n",
       "  {'title': 'Blazing Saddles',\n",
       "   'release_date': '1974-02-07',\n",
       "   'return': 45.96153846153846,\n",
       "   'budget': 2600000.0,\n",
       "   'revenue': 119500000.0},\n",
       "  {'title': 'Life Stinks',\n",
       "   'release_date': '1991-07-26',\n",
       "   'return': 0.0,\n",
       "   'budget': 0.0,\n",
       "   'revenue': 0.0},\n",
       "  {'title': 'Silent Movie',\n",
       "   'release_date': '1976-06-17',\n",
       "   'return': 0.0,\n",
       "   'budget': 0.0,\n",
       "   'revenue': 0.0},\n",
       "  {'title': 'High Anxiety',\n",
       "   'release_date': '1977-12-25',\n",
       "   'return': 9.136187647058824,\n",
       "   'budget': 3400000.0,\n",
       "   'revenue': 31063038.0}])"
      ]
     },
     "execution_count": 234,
     "metadata": {},
     "output_type": "execute_result"
    }
   ],
   "source": [
    "get_director('Mel Brooks')"
   ]
  }
 ],
 "metadata": {
  "kernelspec": {
   "display_name": "base",
   "language": "python",
   "name": "python3"
  },
  "language_info": {
   "codemirror_mode": {
    "name": "ipython",
    "version": 3
   },
   "file_extension": ".py",
   "mimetype": "text/x-python",
   "name": "python",
   "nbconvert_exporter": "python",
   "pygments_lexer": "ipython3",
   "version": "3.10.9"
  },
  "orig_nbformat": 4
 },
 "nbformat": 4,
 "nbformat_minor": 2
}
